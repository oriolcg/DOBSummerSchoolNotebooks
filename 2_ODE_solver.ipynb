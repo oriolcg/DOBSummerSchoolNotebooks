{
  "metadata": {
    "language_info": {
      "codemirror_mode": {
        "name": "python",
        "version": 3
      },
      "file_extension": ".py",
      "mimetype": "text/x-python",
      "name": "python",
      "nbconvert_exporter": "python",
      "pygments_lexer": "ipython3",
      "version": "3.8"
    },
    "kernelspec": {
      "name": "python",
      "display_name": "Python (Pyodide)",
      "language": "python"
    }
  },
  "nbformat_minor": 4,
  "nbformat": 4,
  "cells": [
    {
      "cell_type": "markdown",
      "source": "# Basic theory on ODE solvers\n\n# Learning Objectives\n\nAt the end of this lecture you will be able to:\n1. Define a simple solver to approximate solutions of ODEs based on Taylor Series\n2. Quantify the numerical error of an approximated solution\n\n# Introduction\n\nLet's assume that we want to find an analytical expression of a function that describes the displacement an object in time $u(t)$. We also assume that the object satisfies the equation of motion given by a linear mass-damping-stiffness system:\n\n$$ m\\ddot{u}(t)+c\\dot{u}(t)+ku(t)=F(t), $$\n\nwith \n- $m$ the mass of the object, \n- $c$ the damping and $k$ the stiffness\n- $F(t)$ is a time-dependent forcing term. \n\nWe also provide appropriate initial conditions, in that case \n$$ u(0)=0,\\quad\\dot{u}(0)=\\dot{u}_0. $$\n\nIn General it is difficult to find an analytical expression that is defined at all times, $u(t)\\, ∀ t\\in[0,\\infty)$.\n\n![](\"https://github.com/oriolcg/ComputationalDynamics/blob/master/assets/lecture_notes/Module1/Introduction/figures/1_1.png)\n\n\n@@row\n@@img-small\n@@left ![](/assets/lecture_notes/Module1/Introduction/figures/1_1.png) @@\n@@\n~~~\n<div style=\"clear: both\"></div>\n~~~\n@@\nInstead, we might be interested in knowing the value of the function at specific points in time, $u(t_0),u(t_1),u(t_2),...,u(t_N)$, see green dots in the previous figure. From these set of values, one can reconstruct an approximated function $\\tilde{u}_N(t)$ by, for instance, using a linear interpolation between points (blue dashed line in the figure).\n\nFor smooth enough functions, $u(t)$, as we increase the number of evaluation points in time, $N$, the approximated solution solution $\\tilde{u}_N(t)$ will be closer to $u(t)$.\n\n@@important \nIn this course we will learn how to find approximate solutions like $\\tilde{u}_N(t)$ by using numerical methods. \n@@\n\n\n## Notation\nIn these notes we will use the following notation: \n* $u_i:=u(t_i)$, the function evaluated at time $t_i$. \n* $\\Delta t_i:=t_i-t_{i-1}$, the time step between two consecutive time steps, $t_{i-1}$ and $t_i$.\nWhen considering constant time steps, in an interval of time $t\\in[0,T]$ with $N$ time steps, the time step size will be $\\Delta t=T/N$.\n## Why do we need an ",
      "metadata": {}
    },
    {
      "cell_type": "code",
      "source": "",
      "metadata": {},
      "execution_count": null,
      "outputs": []
    },
    {
      "cell_type": "code",
      "source": "",
      "metadata": {},
      "execution_count": null,
      "outputs": []
    }
  ]
}