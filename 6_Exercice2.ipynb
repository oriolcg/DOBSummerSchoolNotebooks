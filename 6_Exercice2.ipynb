{
  "metadata": {
    "language_info": {
      "codemirror_mode": {
        "name": "python",
        "version": 3
      },
      "file_extension": ".py",
      "mimetype": "text/x-python",
      "name": "python",
      "nbconvert_exporter": "python",
      "pygments_lexer": "ipython3",
      "version": "3.8"
    },
    "kernelspec": {
      "name": "python",
      "display_name": "Python (Pyodide)",
      "language": "python"
    }
  },
  "nbformat_minor": 5,
  "nbformat": 4,
  "cells": [
    {
      "cell_type": "markdown",
      "source": "# Exercise 2: Solving a cantilever beam with Finite Differences\n\nIn this exercise we will learn how to obtain the motion of a cantilever beam using Finite Differences\n\nThe equation of motion of the beam is:\n$$\\rho A \\ddot{w} + EI w'''' = q(x,t)$$\n\nwhere $w(t)$ is the deflection of the beam, $\\rho$ its density, $A$ its cross-sectional area, $E$ its Young's modulus, $I$ its second moment of area and $q(x,t)$ a distributed force applied to the beam. \n\nThe boundary conditions for a cantilever beam are:\n$$ w(0) = w'(0) = \\dot{w}(0) = \\ddot{w}(0) = 0 $$\n$$EI\\ w^{'''}(L) = F_{\\mathrm{ext}}(t) $$\n$$EI\\ w^{''}(L) = M_{\\mathrm{ext}}(t) $$\n\n## The roadmap to discretize the beam using Finite Differences\n\nThe steps needed to discretize the beam are listed next. \n1. Discretize space into $N + 1$ points.\n2. Discretize the EOM of the beam. To do this, you will have to approximate the 4th order derivative with FD. Use a second order approximation. You can find the coefficients [here](https://en.wikipedia.org/wiki/Finite_difference_coefficient) (or google `finite difference coefficients' and click the Wikipedia page)}.\n3. Apply the boundary conditions. Use the definition of discrete derivatives and EOM to find the relation between the ghost points and the interior points.\n4. Combine all equations into matrices. ",
      "metadata": {},
      "id": "a59fb708-b557-4f17-9e70-0703026a598e"
    },
    {
      "cell_type": "code",
      "source": "pip install ipympl;",
      "metadata": {
        "trusted": true
      },
      "execution_count": 1,
      "outputs": [
        {
          "ename": "<class 'AttributeError'>",
          "evalue": "module 'pexpect' has no attribute 'TIMEOUT'",
          "traceback": [
            "\u001b[0;31m---------------------------------------------------------------------------\u001b[0m",
            "\u001b[0;31mAttributeError\u001b[0m                            Traceback (most recent call last)",
            "Input \u001b[0;32mIn [1]\u001b[0m, in \u001b[0;36m<cell line: 1>\u001b[0;34m()\u001b[0m\n\u001b[0;32m----> 1\u001b[0m \u001b[43mget_ipython\u001b[49m\u001b[43m(\u001b[49m\u001b[43m)\u001b[49m\u001b[38;5;241;43m.\u001b[39;49m\u001b[43mrun_line_magic\u001b[49m\u001b[43m(\u001b[49m\u001b[38;5;124;43m'\u001b[39;49m\u001b[38;5;124;43mpip\u001b[39;49m\u001b[38;5;124;43m'\u001b[39;49m\u001b[43m,\u001b[49m\u001b[43m \u001b[49m\u001b[38;5;124;43m'\u001b[39;49m\u001b[38;5;124;43minstall ipympl;\u001b[39;49m\u001b[38;5;124;43m'\u001b[39;49m\u001b[43m)\u001b[49m\n",
            "File \u001b[0;32m/lib/python3.10/site-packages/IPython/core/interactiveshell.py:2305\u001b[0m, in \u001b[0;36mInteractiveShell.run_line_magic\u001b[0;34m(self, magic_name, line, _stack_depth)\u001b[0m\n\u001b[1;32m   2303\u001b[0m     kwargs[\u001b[38;5;124m'\u001b[39m\u001b[38;5;124mlocal_ns\u001b[39m\u001b[38;5;124m'\u001b[39m] \u001b[38;5;241m=\u001b[39m \u001b[38;5;28mself\u001b[39m\u001b[38;5;241m.\u001b[39mget_local_scope(stack_depth)\n\u001b[1;32m   2304\u001b[0m \u001b[38;5;28;01mwith\u001b[39;00m \u001b[38;5;28mself\u001b[39m\u001b[38;5;241m.\u001b[39mbuiltin_trap:\n\u001b[0;32m-> 2305\u001b[0m     result \u001b[38;5;241m=\u001b[39m fn(\u001b[38;5;241m*\u001b[39margs, \u001b[38;5;241m*\u001b[39m\u001b[38;5;241m*\u001b[39mkwargs)\n\u001b[1;32m   2306\u001b[0m \u001b[38;5;28;01mreturn\u001b[39;00m result\n",
            "File \u001b[0;32m/lib/python3.10/site-packages/IPython/core/magics/packaging.py:75\u001b[0m, in \u001b[0;36mPackagingMagics.pip\u001b[0;34m(self, line)\u001b[0m\n\u001b[1;32m     72\u001b[0m \u001b[38;5;28;01melse\u001b[39;00m:\n\u001b[1;32m     73\u001b[0m     python \u001b[38;5;241m=\u001b[39m shlex\u001b[38;5;241m.\u001b[39mquote(python)\n\u001b[0;32m---> 75\u001b[0m \u001b[38;5;28;43mself\u001b[39;49m\u001b[38;5;241;43m.\u001b[39;49m\u001b[43mshell\u001b[49m\u001b[38;5;241;43m.\u001b[39;49m\u001b[43msystem\u001b[49m\u001b[43m(\u001b[49m\u001b[38;5;124;43m\"\u001b[39;49m\u001b[38;5;124;43m \u001b[39;49m\u001b[38;5;124;43m\"\u001b[39;49m\u001b[38;5;241;43m.\u001b[39;49m\u001b[43mjoin\u001b[49m\u001b[43m(\u001b[49m\u001b[43m[\u001b[49m\u001b[43mpython\u001b[49m\u001b[43m,\u001b[49m\u001b[43m \u001b[49m\u001b[38;5;124;43m\"\u001b[39;49m\u001b[38;5;124;43m-m\u001b[39;49m\u001b[38;5;124;43m\"\u001b[39;49m\u001b[43m,\u001b[49m\u001b[43m \u001b[49m\u001b[38;5;124;43m\"\u001b[39;49m\u001b[38;5;124;43mpip\u001b[39;49m\u001b[38;5;124;43m\"\u001b[39;49m\u001b[43m,\u001b[49m\u001b[43m \u001b[49m\u001b[43mline\u001b[49m\u001b[43m]\u001b[49m\u001b[43m)\u001b[49m\u001b[43m)\u001b[49m\n\u001b[1;32m     77\u001b[0m \u001b[38;5;28mprint\u001b[39m(\u001b[38;5;124m\"\u001b[39m\u001b[38;5;124mNote: you may need to restart the kernel to use updated packages.\u001b[39m\u001b[38;5;124m\"\u001b[39m)\n",
            "File \u001b[0;32m/lib/python3.10/site-packages/IPython/core/interactiveshell.py:2462\u001b[0m, in \u001b[0;36mInteractiveShell.system_piped\u001b[0;34m(self, cmd)\u001b[0m\n\u001b[1;32m   2457\u001b[0m     \u001b[38;5;28;01mraise\u001b[39;00m \u001b[38;5;167;01mOSError\u001b[39;00m(\u001b[38;5;124m\"\u001b[39m\u001b[38;5;124mBackground processes not supported.\u001b[39m\u001b[38;5;124m\"\u001b[39m)\n\u001b[1;32m   2459\u001b[0m \u001b[38;5;66;03m# we explicitly do NOT return the subprocess status code, because\u001b[39;00m\n\u001b[1;32m   2460\u001b[0m \u001b[38;5;66;03m# a non-None value would trigger :func:`sys.displayhook` calls.\u001b[39;00m\n\u001b[1;32m   2461\u001b[0m \u001b[38;5;66;03m# Instead, we store the exit_code in user_ns.\u001b[39;00m\n\u001b[0;32m-> 2462\u001b[0m \u001b[38;5;28mself\u001b[39m\u001b[38;5;241m.\u001b[39muser_ns[\u001b[38;5;124m'\u001b[39m\u001b[38;5;124m_exit_code\u001b[39m\u001b[38;5;124m'\u001b[39m] \u001b[38;5;241m=\u001b[39m \u001b[43msystem\u001b[49m\u001b[43m(\u001b[49m\u001b[38;5;28;43mself\u001b[39;49m\u001b[38;5;241;43m.\u001b[39;49m\u001b[43mvar_expand\u001b[49m\u001b[43m(\u001b[49m\u001b[43mcmd\u001b[49m\u001b[43m,\u001b[49m\u001b[43m \u001b[49m\u001b[43mdepth\u001b[49m\u001b[38;5;241;43m=\u001b[39;49m\u001b[38;5;241;43m1\u001b[39;49m\u001b[43m)\u001b[49m\u001b[43m)\u001b[49m\n",
            "File \u001b[0;32m/lib/python3.10/site-packages/IPython/utils/_process_posix.py:129\u001b[0m, in \u001b[0;36mProcessHandler.system\u001b[0;34m(self, cmd)\u001b[0m\n\u001b[1;32m    125\u001b[0m enc \u001b[38;5;241m=\u001b[39m DEFAULT_ENCODING\n\u001b[1;32m    127\u001b[0m \u001b[38;5;66;03m# Patterns to match on the output, for pexpect.  We read input and\u001b[39;00m\n\u001b[1;32m    128\u001b[0m \u001b[38;5;66;03m# allow either a short timeout or EOF\u001b[39;00m\n\u001b[0;32m--> 129\u001b[0m patterns \u001b[38;5;241m=\u001b[39m [\u001b[43mpexpect\u001b[49m\u001b[38;5;241;43m.\u001b[39;49m\u001b[43mTIMEOUT\u001b[49m, pexpect\u001b[38;5;241m.\u001b[39mEOF]\n\u001b[1;32m    130\u001b[0m \u001b[38;5;66;03m# the index of the EOF pattern in the list.\u001b[39;00m\n\u001b[1;32m    131\u001b[0m \u001b[38;5;66;03m# even though we know it's 1, this call means we don't have to worry if\u001b[39;00m\n\u001b[1;32m    132\u001b[0m \u001b[38;5;66;03m# we change the above list, and forget to change this value:\u001b[39;00m\n\u001b[1;32m    133\u001b[0m EOF_index \u001b[38;5;241m=\u001b[39m patterns\u001b[38;5;241m.\u001b[39mindex(pexpect\u001b[38;5;241m.\u001b[39mEOF)\n",
            "\u001b[0;31mAttributeError\u001b[0m: module 'pexpect' has no attribute 'TIMEOUT'"
          ],
          "output_type": "error"
        }
      ],
      "id": "ccceb60e-a0fb-449b-891c-a6d59ab71b98"
    },
    {
      "cell_type": "code",
      "source": "# Load packages\nimport numpy as np",
      "metadata": {
        "trusted": true
      },
      "execution_count": 2,
      "outputs": [],
      "id": "85e93fef-de7f-4f7e-a535-72d2b773605b"
    },
    {
      "cell_type": "markdown",
      "source": "### Step 1: Discretize space",
      "metadata": {},
      "id": "8fb656d2-f8ab-4cf0-8174-ebb5a0a9b929"
    },
    {
      "cell_type": "code",
      "source": "L = 10 # length [m]\nN = 100 # Number of elements\nx = np.linspace(0,L,N+1)",
      "metadata": {
        "trusted": true
      },
      "execution_count": 3,
      "outputs": [],
      "id": "aa557cb7-d425-41f0-a141-8d68c59ea804"
    },
    {
      "cell_type": "markdown",
      "source": "### Step 2: Discretize the EOM of the beam\n\nUsing the coefficients for a centered FD scheme for 4th order derivatives with 2nd order accuracy we have:\n\n$$ w_i^{''''} = \\frac{w_{i-2}-4w_{i-1}+6w_i-4w_{i+1}+w_{i+2}}{\\Delta x^4}$$\n\nThe equivalent scheme for the 3rd order derivative is:\n\n$$ w_i^{'''} = \\frac{-0.5w_{i-2}+w_{i-1}-w_{i+1}+0.5w_{i+2}}{\\Delta x^3}$$\n\nFor the 2nd order derivative:\n\n$$ w_i^{''} = \\frac{w_{i-1}-2w_i+w_{i+1}}{\\Delta x^2}$$\n\nAnd for the 1st order derivative:\n\n$$ w_i^{'} = \\frac{-0.5w_{i-1}+0.5w_{i+1}}{\\Delta x}$$\n\nReplacing these expressions into the equation of motion we get the following discrete system:\n\n$$ \\rho A \\ddot{w}_i + EI \\frac{w_{i-2}-4w_{i-1}+6w_i-4w_{i+1}+w_{i+2}}{\\Delta x^4} = q_i $$\n\n### Step 3: Apply boundary conditions\n\nAt $x=0$ we have that $w(0)=0$, then \n$$ w_0 = 0 $$\n\nAt $x=0$ we also have that $w^{'}(0)=0$, then using the approximation of $w^{'}_i$ we get \n$$ w_{-1} = w_1 $$\n\nSince we know the values of $w(0)$ for all times, we will not include them on the system. Using all these relations, we get the discrete equation for $i=1$ and $i=2$ as:\n$$ \\rho A \\ddot{w}_1 + EI \\frac{7w_1-4w_{2}+w_{3}}{\\Delta x^4} = q_1 $$\n$$ \\rho A \\ddot{w}_2 + EI \\frac{-4w_{1}+6w_2-4w_{3}+w_{4}}{\\Delta x^4} = q_2 $$\n\nOn the other side, we use the force and moments relation\n$$EI\\ w^{''}(L) = M_{\\mathrm{ext}}(t) $$\n$$EI\\frac{w_{N-1}-2w_{N}+w_{N+1}}{\\Delta x^2} = M_{\\mathrm{ext}}(t)$$\nThus\n$$w_{N+1} = \\frac{\\Delta x^2}{EI}M_{\\mathrm{ext}}(t)-w_{N-1}+2w_{N}$$\n\nAnd\n$$EI\\ w^{'''}(L) = F_{\\mathrm{ext}}(t) $$\n$$EI \\frac{-0.5w_{N-2}+w_{N-1}-w_{N+1}+0.5w_{N+2}}{\\Delta x^3} = F_{\\mathrm{ext}}(t) $$\n$$w_{N+2} = \\frac{2\\Delta x^3}{EI}F_{\\mathrm{ext}}(t) + \\frac{2\\Delta x^2}{EI}M_{\\mathrm{ext}}(t)+ w_{N-2} - 4w_{N-1} + 4w_N  $$\n\nSo, the discrete equations of motion for $i=N$ and $i=N-1$ are:\n$$ \\rho A \\ddot{w}_N + EI \\frac{2w_{N-2} - 4w_{N-1} + 2w_N}{\\Delta x^4} = q_N - \\frac{2}{\\Delta x}F_{\\mathrm{ext}}(t) + \\frac{2}{\\Delta x^2}M_{\\mathrm{ext}}(t) $$\n\n$$ \\rho A \\ddot{w}_{N-1} + EI \\frac{w_{N-3}-4w_{N-2}+5w_{N-1}-2w_{N}}{\\Delta x^4} = q_{N-1} - \\frac{1}{\\Delta x^2}M_{\\mathrm{ext}}(t)$$\n\n",
      "metadata": {
        "tags": []
      },
      "id": "ce1ba23e-9989-4ec2-8da9-82468e993ba5"
    },
    {
      "cell_type": "markdown",
      "source": "### Step 4: Matrix form\n\nSummarizing we have the following discrete (in space) equations:\n\n- For $i=1$:\n$$ \\rho A \\ddot{w}_1 + EI \\frac{7w_1-4w_{2}+w_{3}}{\\Delta x^4} = q_1 $$\n- For $i=2$:\n$$ \\rho A \\ddot{w}_2 + EI \\frac{-4w_{1}+6w_2-4w_{3}+w_{4}}{\\Delta x^4} = q_2 $$\n- For $i=3,...,N-2$:\n$$ \\rho A \\ddot{w}_i + EI \\frac{w_{i-2}-4w_{i-1}+6w_i-4w_{i+1}+w_{i+2}}{\\Delta x^4} = q_i $$\n- For $i=N-1$:\n$$ \\rho A \\ddot{w}_{N-1} + EI \\frac{w_{N-3}-4w_{N-2}+5w_{N-1}-2w_{N}}{\\Delta x^4} = q_{N-1} - \\frac{1}{\\Delta x^2}M_{\\mathrm{ext}}(t)$$\n- For $i=N$:\n$$ \\rho A \\ddot{w}_N + EI \\frac{2w_{N-2} - 4w_{N-1} + 2w_N}{\\Delta x^4} = q_N - \\frac{2}{\\Delta x}F_{\\mathrm{ext}}(t) + \\frac{2}{\\Delta x^2}M_{\\mathrm{ext}}(t) $$  \n\nThis is equivalent to the following system:\n$$\\rho A \\left[\\begin{matrix}\n1&0&0&\\ldots&0&0&0\\\\\n0&1&0&\\ldots&0&0&0\\\\\n0&0&1&\\ldots&0&0&0\\\\\n\\vdots&\\vdots&\\vdots&\\ddots&\\vdots&\\vdots&\\vdots\\\\\n0&0&0&\\ldots&1&0&0\\\\\n0&0&0&\\ldots&0&1&0\\\\\n0&0&0&\\ldots&0&0&1\\\\\n\\end{matrix}\\right]\\left[\\begin{matrix}\n\\ddot{w}_1\\\\\n\\ddot{w}_2\\\\\n\\ddot{w}_3\\\\\n\\vdots\\\\\n\\ddot{w}_{N-2}\\\\\n\\ddot{w}_{N-1}\\\\\n\\ddot{w}_N\\\\\n\\end{matrix}\\right]\n+ \\frac{EI}{\\Delta x^4} \\left[\\begin{matrix}\n7&-4&1&0&0&&0&0&0\\\\\n-4&6&-4&1&0&\\ldots&0&0&0\\\\\n1&-4&6&-4&1&&0&0&0\\\\\n&&\\vdots&&&\\ddots&&\\vdots&\\\\\n0&0&0&&1&-4&6&-4&1\\\\\n0&0&0&\\ldots&0&1&-4&5&-2\\\\\n0&0&0& &0&0&2&-4&2\\\\\n\\end{matrix}\\right]\\left[\\begin{matrix}\nw_1\\\\\nw_2\\\\\nw_3\\\\\n\\vdots\\\\\nw_{N-2}\\\\\nw_{N-1}\\\\\nw_N\\\\\n\\end{matrix}\\right] = \\left[\\begin{matrix}\nq_1\\\\\nq_2\\\\\nq_3\\\\\n\\vdots\\\\\nq_{N-2}\\\\\nq_{N-1} - \\frac{1}{\\Delta x^2}M_{\\mathrm{ext}}(t)\\\\\nq_N - \\frac{2}{\\Delta x}F_{\\mathrm{ext}}(t) + \\frac{2}{\\Delta x^2}M_{\\mathrm{ext}}(t) \\\\\n\\end{matrix}\\right]$$\n\nAnd in a compact form:\n$$\\boldsymbol{M}\\ddot{\\boldsymbol{w}}+\\boldsymbol{K}\\boldsymbol{w}=\\boldsymbol{F}$$",
      "metadata": {},
      "id": "0f603293-8b8e-4f80-b8a0-df5043d99c9b"
    },
    {
      "cell_type": "code",
      "source": "",
      "metadata": {},
      "execution_count": null,
      "outputs": [],
      "id": "27bafd61-9ca0-4796-9b18-ebc07f52b360"
    },
    {
      "cell_type": "code",
      "source": "\n\n\\section{Discretized system} \nIf you did everything correctly, you should have obtained to following mass matrix of size $N \\times N$ (NOT $(N+1) \\times (N+1)$): \n\\begin{equation}\n\\bm{\\mathrm{M}} = \\rho A \\bm{\\mathrm{I_N}}\n\\end{equation}\nwhere $\\bm{\\mathrm{I_N}}$ is the identity matrix of size $N \\times N$. \n\nThe stiffness matrix of size $N \\times N$ should be: \n\\begin{equation}\n\\bm{\\mathrm{K}} = \\frac{EI}{l^4} \n\\begin{bmatrix} \n7  & -4 & 1  & 0  & 0 & 0 & 0  \\\\\n-4 & 6  & -4 & 1  & 0 & 0 & 0  \\\\\n1  & -4 & 6  & -4 & 1 & 0 & 0  \\\\\n   &   &   &\\cdots & &  &  \\\\\n0  & 0 & 1 & -4 & 6  & -4 & 1  \\\\\n0  & 0 & 0 & 1  & -4 & 5  & -2 \\\\\n0  & 0 & 0 & 0  & 2  & -4 & 2 \n\\end{bmatrix}\n\\end{equation}\nwhere $\\begin{bmatrix} 1 &-4 &6  &-4 &1\\end{bmatrix}$ repeats along the dots, with the correct amount of zero before and after. \n\nThe forcing vector should be:\n\\begin{equation}\n\\bm{\\mathrm{F}} = \\begin{bmatrix} \nq_1 \\\\ q_2 \\\\ q_3 \\\\ \\cdots \\\\ q_{N-2} \\\\ q_{N-1} + \\frac{M_{\\mathrm{ext}}(t)}{l^2} \\\\ q_N + 2 \\frac{F_{\\mathrm{ext}}(t)}{l} - 2 \\frac{M_{\\mathrm{ext}}(t)}{l^2} \\\\\n\\end{bmatrix}\n\\end{equation}\nwhere $q_n = q(x_n)$. \n\nThe derivations will be made available after the lecture. \n\n\\section{Bonus learning} \nAt this point you can program the matrices, substitute expressions for the loads and solve the system. The complexity of the model can be further increased to make it a better model of a wind turbine. You can try adding the following items and see how they change the matrices: \n\\begin{itemize}\n\\item A point mass at the free end of the beam to capture the nacelle. \n\\item The effect of axial compression $N w''$. \n\\item Rather than having a clamped end, have a spring foundation to support the pipe in transverse direction. \n\\end{itemize}\n\n\\end{document}\n\nIn this project you will analyse the behavior of an offshore wind turbine. ",
      "metadata": {
        "trusted": true
      },
      "execution_count": 2,
      "outputs": [
        {
          "ename": "<class 'SyntaxError'>",
          "evalue": "unexpected character after line continuation character (<ipython-input-2-e121d40da20c>, line 1)",
          "traceback": [
            "\u001b[0;36m  Input \u001b[0;32mIn [2]\u001b[0;36m\u001b[0m\n\u001b[0;31m    \\section{Discretized system}\u001b[0m\n\u001b[0m     ^\u001b[0m\n\u001b[0;31mSyntaxError\u001b[0m\u001b[0;31m:\u001b[0m unexpected character after line continuation character\n"
          ],
          "output_type": "error"
        }
      ],
      "id": "6ba77449-dd6e-4939-b11d-d93893fe0341"
    },
    {
      "cell_type": "code",
      "source": "",
      "metadata": {},
      "execution_count": null,
      "outputs": [],
      "id": "8bd472d7-7b5a-438f-9e6a-35d004fa8e2c"
    }
  ]
}