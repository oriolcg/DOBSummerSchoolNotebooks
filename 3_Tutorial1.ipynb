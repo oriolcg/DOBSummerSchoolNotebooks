{
 "cells": [
  {
   "cell_type": "markdown",
   "metadata": {},
   "source": [
    "# Tutorial 1: ODE solvers\n",
    "In this tutorial you will learn to solve an MCK (mass-damper-spring) using a Python ODE solver. The MCK has 1 DOF and consequently the state veector contains 2 entries; displacement and velocity. \n",
    "\n",
    "$$ \\bold{q} = \\begin{bmatrix} u \\\\ \\dot{u} \\end{bmatrix}$$\n",
    "\n",
    "The Equation of Motion (EoM) is given by: $$ m\\ddot{u} = -ku -c\\dot{u} $$"
   ]
  },
  {
   "cell_type": "markdown",
   "metadata": {},
   "source": [
    "## Part 1: definition of inputs\n",
    "We start by defining the numerical values of all parameters:"
   ]
  },
  {
   "cell_type": "code",
   "execution_count": 1,
   "metadata": {},
   "outputs": [],
   "source": [
    "import numpy as np\n",
    "import matplotlib.pyplot as plt\n",
    "from scipy.integrate import solve_ivp\n",
    "\n",
    "# Parameters\n",
    "k =         1   # [N/n] \n",
    "c =         0.1 # [Ns/m]\n",
    "m =         1   # [kg]\n"
   ]
  },
  {
   "cell_type": "markdown",
   "metadata": {},
   "source": [
    "We want to solve the problem in the interval $ t \\in [0,10] $, and get the solution with a resolution of $ \\Delta t = 0.01$. Then, the vector of evaluation points will be defined as:"
   ]
  },
  {
   "cell_type": "code",
   "execution_count": 30,
   "metadata": {},
   "outputs": [],
   "source": [
    "# Time interval\n",
    "t_0 =       0       # initial time [s]\n",
    "t_f =       10      # final time [s]\n",
    "dt =        0.01    # time step size [s]\n",
    "\n",
    "steps =     int(t_f/dt)  # integer number of steps [-]\n",
    "tspan =     np.linspace(t_0,t_f,steps)   # vector of evaluation points [s]"
   ]
  },
  {
   "cell_type": "markdown",
   "metadata": {},
   "source": [
    "The initial conditions for this example will be: $ u(0) = 1.0 $ and $ \\dot{u}(0) = 0.0$."
   ]
  },
  {
   "cell_type": "code",
   "execution_count": 3,
   "metadata": {},
   "outputs": [],
   "source": [
    "# Initial conditions\n",
    "init_disp = 1\n",
    "init_velo = 0"
   ]
  },
  {
   "cell_type": "markdown",
   "metadata": {},
   "source": [
    "## Part 2: the ODE solver\n",
    "We will use solve_ivp (available via the SciPy package) to solve our MCK system. solve_ivp implements the 5th order Runge-Kutta scheme mentioned in the lectures. Checking help for solve_ivp shows how to call it:\n",
    "\n",
    "`scipy.integrate.solve_ivp(fun, t_span, y0, t_eval, **options)`\n",
    "\n",
    "OUTPUT:\n",
    "- T: Evaluation points\n",
    "- q: containts the state $\\bold{q}$ at each time in the vector T\n",
    "\n",
    "INPUT:\n",
    "- `fun`: our ode function as explained during the lecture. It will compute the time derivatives of $q: \\dot{q}=\\mathcal{F} (q)$.\n",
    "- `t_span`: list of the first and last time step\n",
    "- `y0`: our initial state / conditions, $q(0)$.\n",
    "- `t_eval`: times at which the solution should be stored. In our case this is the variable `tspan`\n",
    "- `**options`: Options for the solvers. Here you can set things like error tolerances, maximum time step, event functions, etc. Check the SciPy docs for details. You will need to use this during the first assignment.  \n",
    "\n",
    "Let's ignore the options for now and use the `solve_ivp` as our solver."
   ]
  },
  {
   "cell_type": "markdown",
   "metadata": {},
   "source": [
    "## Part 3: ODE function\n",
    "Now we need to create our `fun`. In the help documentation of `solve_ivp` we can check for a short description on what the function does. It is stated that the function f(t,q) determines the differential equations. The function is called as:\n",
    "\n",
    "$ \\dot{\\bold{q}} = $`fun`$(t,\\bold{q}) $\n",
    "\n",
    "Here, the variable $\\dot{\\bold{q}}$ is the time derivative of our current state, $t$ is the current time and $\\bold{q}$ is our current state. As the solver requires this interface, we have to create our `fun` accordingly or we will get answers that have no physical meaning!\n",
    "\n",
    "Now we are faced with the problem that we need to have access to our parameters inside our `fun`. But our `fun` can only have the arguments $(t,\\bold{q})$. To overcome this problem we will use an anonymous function (AF) to pass along the parameters to our `fun`. In Python an anonymous function is also known as a Lambda function.\n",
    "\n",
    "`AF = lambda -,-,- : fun(-,-,-)`\n",
    "\n",
    "where you have to replace the dashed marks. Now we can use this AF in our call to the solver:\n",
    "\n",
    "`[T,q] = solve_ivp(AF,tspan,q_0)`\n",
    "\n",
    "You can also directly declare the AF in the call to the solver if you prefer:\n",
    "\n",
    "`[T,q] = solve_ivp(lambda -,-,- : fun(-,-,-),tspan,q_0)`\n",
    "\n",
    "-----------------------------------------------------------------------------------------------------\n",
    "**Problem**: Create a `fun` function that can receive the time, the state variable and the parameters as arguments. Implement the ODE function, $\\mathcal{F}$, for the 1DOF MCK system such that $\\dot{q}=\\mathcal{F} (q)$.\n",
    "\n",
    "*Hint*: Use the EoM and the fact that $\\bold{q}(1) = u$ and $\\bold{q}(2) = \\dot{u}$.\n",
    "\n",
    "-----------------------------------------------------------------------------------------------------\n"
   ]
  },
  {
   "cell_type": "code",
   "execution_count": 41,
   "metadata": {},
   "outputs": [],
   "source": [
    "# Solve the problem of part 3 here\n"
   ]
  },
  {
   "cell_type": "markdown",
   "metadata": {},
   "source": [
    "## Part 4: initial state\n",
    "Next we need to create `q_0`. Note that the solver does not know / care what each entry in `q` represents. All the solver does is integrate things! You assign meaning to the entries in the state `q` when you define the initial conditions in `q_0`. This means that if you want the first entry in your state to be the displacement, `q_0[0]` should be set to `init_disp`. If you want the velocities to be the first entry, `q_0[0]` should be equal to the `init_velo`. It is up to you to decide this. \n",
    "\n",
    "!! IMPORTANT !!\n",
    "The `q` you receive in your `fun` will have the same meaning as your `q_0`. This means if you assigned `q_0[0]` to be the `init_disp`, `q_n[0]` will be the current displacement. So make sure your usage of `q_n` inside the `fun` is consistent with your definition of `q_0` as otherwise you will get bogus results\n",
    "\n",
    "-----------------------------------------------------------------------------------------------------\n",
    "**Problem**: Create your `q_0`\n",
    "\n",
    "*Hint*: Straight forward! Just make sure that the indices are consistent with what you wrote in `fun`.\n",
    "\n",
    "-----------------------------------------------------------------------------------------------------"
   ]
  },
  {
   "cell_type": "code",
   "execution_count": 42,
   "metadata": {},
   "outputs": [],
   "source": [
    "# Solve the problem of part 4 here\n"
   ]
  },
  {
   "cell_type": "markdown",
   "metadata": {},
   "source": [
    "## Part 5: Solve\n",
    "Once everything works the solver will return T and q. Each row in q corresponds to your state at that time-step. you can then plot your results with:"
   ]
  },
  {
   "cell_type": "code",
   "execution_count": 43,
   "metadata": {},
   "outputs": [
    {
     "data": {
      "text/plain": [
       "Text(0.5, 0, 'Time [s]')"
      ]
     },
     "execution_count": 43,
     "metadata": {},
     "output_type": "execute_result"
    },
    {
     "data": {
      "image/png": "[encoded data removed]",
      "text/plain": [
       "<Figure size 432x288 with 1 Axes>"
      ]
     },
     "metadata": {
      "needs_background": "light"
     },
     "output_type": "display_data"
    }
   ],
   "source": [
    "# Plotting the solution\n",
    "plt.plot(sol.t,sol.y[0])\n",
    "plt.plot(sol.t,sol.y[1])\n",
    "plt.xlabel('Time [s]')"
   ]
  }
 ],
 "metadata": {
  "interpreter": {
   "hash": "8661b582be0f012a274b7385348a70dad23ce1ee0d922b32977c503b98c884f2"
  },
  "kernelspec": {
   "display_name": "Python 3.9.7 ('base')",
   "language": "python",
   "name": "python3"
  },
  "language_info": {
   "codemirror_mode": {
    "name": "ipython",
    "version": 3
   },
   "file_extension": ".py",
   "mimetype": "text/x-python",
   "name": "python",
   "nbconvert_exporter": "python",
   "pygments_lexer": "ipython3",
   "version": "3.9.7"
  },
  "orig_nbformat": 4
 },
 "nbformat": 4,
 "nbformat_minor": 2
}
